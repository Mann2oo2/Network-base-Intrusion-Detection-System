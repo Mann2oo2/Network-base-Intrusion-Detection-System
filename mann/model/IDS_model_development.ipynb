{
  "nbformat": 4,
  "nbformat_minor": 0,
  "metadata": {
    "colab": {
      "provenance": []
    },
    "kernelspec": {
      "name": "python3",
      "display_name": "Python 3"
    },
    "language_info": {
      "name": "python"
    }
  },
  "cells": [
    {
      "cell_type": "code",
      "execution_count": null,
      "metadata": {
        "id": "U3NH3L7b69Sx"
      },
      "outputs": [],
      "source": [
        "import numpy as np\n",
        "import pandas as pd"
      ]
    },
    {
      "cell_type": "code",
      "source": [
        "# @title Load dataset\n",
        "\n",
        "data = pd.read_csv('5.csv')\n",
        "print(data.head())"
      ],
      "metadata": {
        "colab": {
          "base_uri": "https://localhost:8080/"
        },
        "id": "PMcGwUUI6-UW",
        "outputId": "a757452b-cbbb-4c5b-acb7-a21fc74c0a04"
      },
      "execution_count": null,
      "outputs": [
        {
          "output_type": "stream",
          "name": "stdout",
          "text": [
            "             eth_src            eth_dst  eth_type          ip_src  \\\n",
            "0  00:0c:29:92:2d:92  00:50:56:e7:f4:38      2048  192.168.17.128   \n",
            "1  00:50:56:e7:f4:38  00:0c:29:92:2d:92      2048   162.159.200.1   \n",
            "2  00:0c:29:92:2d:92  00:50:56:e7:f4:38      2054  192.168.17.128   \n",
            "3  00:50:56:e7:f4:38  00:0c:29:92:2d:92      2054  192.168.17.128   \n",
            "4  00:0c:29:92:2d:92  00:0c:29:87:03:2b      2048  192.168.17.128   \n",
            "\n",
            "           ip_dst  ip_proto ip_flags_frag  src_port  dst_port  ip_ihl  \\\n",
            "0   162.159.200.1      17.0            DF   35880.0     123.0     5.0   \n",
            "1  192.168.17.128      17.0           NaN     123.0   35880.0     5.0   \n",
            "2   162.159.200.1      17.0            DF       NaN     123.0     5.0   \n",
            "3             NaN       NaN           NaN       NaN       NaN     NaN   \n",
            "4  192.168.17.130       1.0            DF       NaN       NaN     5.0   \n",
            "\n",
            "   ip_chksum  ip_len  raw_load  packet_rate  payloads      label  \n",
            "0    11851.0    76.0       NaN     0.598624         0     normal  \n",
            "1    57090.0    76.0       NaN   102.589099         0     normal  \n",
            "2        NaN    76.0       NaN     0.598624         0     normal  \n",
            "3        NaN     NaN       NaN     0.798056         0     normal  \n",
            "4    27964.0    84.0      56.0     0.419172        56  malicious  \n"
          ]
        }
      ]
    },
    {
      "cell_type": "code",
      "source": [
        "data.isnull().sum()"
      ],
      "metadata": {
        "colab": {
          "base_uri": "https://localhost:8080/"
        },
        "id": "HS24WGy_7Jyr",
        "outputId": "11931d79-20d2-43ba-a126-d50fa4d0a725"
      },
      "execution_count": null,
      "outputs": [
        {
          "output_type": "execute_result",
          "data": {
            "text/plain": [
              "eth_src              0\n",
              "eth_dst              0\n",
              "eth_type             0\n",
              "ip_src             248\n",
              "ip_dst             254\n",
              "ip_proto           734\n",
              "ip_flags_frag    10716\n",
              "src_port          3294\n",
              "dst_port          3198\n",
              "ip_ihl             734\n",
              "ip_chksum          830\n",
              "ip_len             734\n",
              "raw_load          9456\n",
              "packet_rate          0\n",
              "payloads             0\n",
              "label                0\n",
              "dtype: int64"
            ]
          },
          "metadata": {},
          "execution_count": 3
        }
      ]
    },
    {
      "cell_type": "code",
      "source": [
        "# @title Replacing NULL values with 0\n",
        "data['ip_src'].fillna(\"not available\",inplace=True)\n",
        "data['ip_dst'].fillna(\"not available\",inplace=True)\n",
        "data['ip_flags_frag'].fillna(\"not available\",inplace=True)\n",
        "data['src_port'].fillna(0,inplace=True)\n",
        "data['dst_port'].fillna(0,inplace=True)\n",
        "data['ip_ihl'].fillna(0,inplace=True)\n",
        "data['ip_chksum'].fillna(0,inplace=True)\n",
        "data['ip_len'].fillna(0,inplace=True)\n",
        "data['raw_load'].fillna(0,inplace=True)\n",
        "data['ip_proto'].fillna(0,inplace=True)\n",
        "print(data)"
      ],
      "metadata": {
        "colab": {
          "base_uri": "https://localhost:8080/"
        },
        "id": "2TpiVT4F7Kuj",
        "outputId": "a8173b7d-238d-4de0-bdc8-4369e59ab3f4"
      },
      "execution_count": null,
      "outputs": [
        {
          "output_type": "stream",
          "name": "stdout",
          "text": [
            "                 eth_src            eth_dst  eth_type          ip_src  \\\n",
            "0      00:0c:29:92:2d:92  00:50:56:e7:f4:38      2048  192.168.17.128   \n",
            "1      00:50:56:e7:f4:38  00:0c:29:92:2d:92      2048   162.159.200.1   \n",
            "2      00:0c:29:92:2d:92  00:50:56:e7:f4:38      2054  192.168.17.128   \n",
            "3      00:50:56:e7:f4:38  00:0c:29:92:2d:92      2054  192.168.17.128   \n",
            "4      00:0c:29:92:2d:92  00:0c:29:87:03:2b      2048  192.168.17.128   \n",
            "...                  ...                ...       ...             ...   \n",
            "15771  00:0c:29:87:03:2b  00:50:56:e7:f4:38      2048  192.168.17.130   \n",
            "15772  00:50:56:c0:00:08  ff:ff:ff:ff:ff:ff      2054  192.168.17.129   \n",
            "15773  00:50:56:c0:00:08  ff:ff:ff:ff:ff:ff      2054  192.168.17.129   \n",
            "15774  00:50:56:c0:00:08  ff:ff:ff:ff:ff:ff      2054  192.168.17.129   \n",
            "15775  00:50:56:c0:00:08  ff:ff:ff:ff:ff:ff      2054  192.168.17.129   \n",
            "\n",
            "               ip_dst  ip_proto  ip_flags_frag  src_port  dst_port  ip_ihl  \\\n",
            "0       162.159.200.1      17.0             DF   35880.0     123.0     5.0   \n",
            "1      192.168.17.128      17.0  not available     123.0   35880.0     5.0   \n",
            "2       162.159.200.1      17.0             DF       0.0     123.0     5.0   \n",
            "3       not available       0.0  not available       0.0       0.0     0.0   \n",
            "4      192.168.17.130       1.0             DF       0.0       0.0     5.0   \n",
            "...               ...       ...            ...       ...       ...     ...   \n",
            "15771  34.120.208.123       6.0             DF   34834.0     443.0     5.0   \n",
            "15772  192.168.17.254       0.0  not available       0.0       0.0     0.0   \n",
            "15773  192.168.17.254       0.0  not available       0.0       0.0     0.0   \n",
            "15774  192.168.17.254       0.0  not available       0.0       0.0     0.0   \n",
            "15775  192.168.17.254       0.0  not available       0.0       0.0     0.0   \n",
            "\n",
            "       ip_chksum  ip_len  raw_load  packet_rate  payloads      label  \n",
            "0        11851.0    76.0       0.0     0.598624         0     normal  \n",
            "1        57090.0    76.0       0.0   102.589099         0     normal  \n",
            "2            0.0    76.0       0.0     0.598624         0     normal  \n",
            "3            0.0     0.0       0.0     0.798056         0     normal  \n",
            "4        27964.0    84.0      56.0     0.419172        56  malicious  \n",
            "...          ...     ...       ...          ...       ...        ...  \n",
            "15771    21592.0    79.0      39.0    13.144314   2133142     normal  \n",
            "15772        0.0     0.0       0.0     7.897182   2133142     normal  \n",
            "15773        0.0     0.0       0.0     7.164766   2133142     normal  \n",
            "15774        0.0     0.0       0.0     6.891975   2133142     normal  \n",
            "15775        0.0     0.0       0.0     6.480830   2133142     normal  \n",
            "\n",
            "[15776 rows x 16 columns]\n"
          ]
        }
      ]
    },
    {
      "cell_type": "code",
      "source": [
        "# @title Independent value (Pridictor variable)\n",
        "X = data[['eth_src', 'eth_dst','eth_type', 'ip_src', 'ip_dst', 'ip_proto', 'ip_flags_frag', 'src_port', 'dst_port', 'ip_ihl', 'ip_chksum', 'ip_len', 'raw_load', 'packet_rate', 'payloads']].values\n",
        "print(X)"
      ],
      "metadata": {
        "colab": {
          "base_uri": "https://localhost:8080/"
        },
        "id": "tOMCRyWfAlmm",
        "outputId": "af3b7984-e2de-44b5-8dca-d209c826b10e"
      },
      "execution_count": null,
      "outputs": [
        {
          "output_type": "stream",
          "name": "stdout",
          "text": [
            "[['00:0c:29:92:2d:92' '00:50:56:e7:f4:38' 2048 ... 0.0 0.598623722 0]\n",
            " ['00:50:56:e7:f4:38' '00:0c:29:92:2d:92' 2048 ... 0.0 102.5890986 0]\n",
            " ['00:0c:29:92:2d:92' '00:50:56:e7:f4:38' 2054 ... 0.0 0.598623722 0]\n",
            " ...\n",
            " ['00:50:56:c0:00:08' 'ff:ff:ff:ff:ff:ff' 2054 ... 0.0 7.164765955\n",
            "  2133142]\n",
            " ['00:50:56:c0:00:08' 'ff:ff:ff:ff:ff:ff' 2054 ... 0.0 6.891975199\n",
            "  2133142]\n",
            " ['00:50:56:c0:00:08' 'ff:ff:ff:ff:ff:ff' 2054 ... 0.0 6.480830401\n",
            "  2133142]]\n"
          ]
        }
      ]
    },
    {
      "cell_type": "code",
      "source": [
        "\n",
        "y = data[['label']].values\n",
        "print(y)"
      ],
      "metadata": {
        "colab": {
          "base_uri": "https://localhost:8080/"
        },
        "id": "RYp1TMVgBDlN",
        "outputId": "cf997ca9-f5e7-4885-fb74-be2826c8ed8f"
      },
      "execution_count": null,
      "outputs": [
        {
          "output_type": "stream",
          "name": "stdout",
          "text": [
            "[['normal']\n",
            " ['normal']\n",
            " ['normal']\n",
            " ...\n",
            " ['normal']\n",
            " ['normal']\n",
            " ['normal']]\n"
          ]
        }
      ]
    },
    {
      "cell_type": "code",
      "source": [
        "# @title Encoding categorical data\n",
        "from sklearn.preprocessing import LabelEncoder\n",
        "LE_x = LabelEncoder()\n",
        "X[:,0] = LE_x.fit_transform(X[:,0])\n",
        "LE_x1 = LabelEncoder()\n",
        "X[:,1] = LE_x1.fit_transform(X[:,1])\n",
        "LE_x2 = LabelEncoder()\n",
        "X[:,6] = LE_x2.fit_transform(X[:,6])\n",
        "LE_x3 = LabelEncoder()\n",
        "X[:,3] = LE_x3.fit_transform(X[:,3])\n",
        "LE_x4 = LabelEncoder()\n",
        "X[:,4] = LE_x4.fit_transform(X[:,4])\n",
        "\n",
        "# Ensure y is a 1D array for the LabelEncoder\n",
        "y = y.ravel()\n",
        "\n",
        "LE_y = LabelEncoder()\n",
        "y = LE_y.fit_transform(y)  # Apply the transformation to the entire y\n",
        "\n",
        "# Handle potential NaNs introduced by LabelEncoder\n",
        "import numpy as np\n",
        "X = np.nan_to_num(X, nan=-1)  # Replace NaNs with a placeholder value (-1 in this case)\n",
        "\n",
        "print(X)\n",
        "print(y)"
      ],
      "metadata": {
        "colab": {
          "base_uri": "https://localhost:8080/"
        },
        "id": "ykbKvUxlBFZ_",
        "outputId": "d1b2a983-98b2-4531-c278-3eda3368cb47"
      },
      "execution_count": null,
      "outputs": [
        {
          "output_type": "stream",
          "name": "stdout",
          "text": [
            "[[1 3 2048 ... 0.0 0.598623722 0]\n",
            " [3 1 2048 ... 0.0 102.5890986 0]\n",
            " [1 3 2054 ... 0.0 0.598623722 0]\n",
            " ...\n",
            " [2 13 2054 ... 0.0 7.164765955 2133142]\n",
            " [2 13 2054 ... 0.0 6.891975199 2133142]\n",
            " [2 13 2054 ... 0.0 6.480830401 2133142]]\n",
            "[1 1 1 ... 1 1 1]\n"
          ]
        }
      ]
    },
    {
      "cell_type": "code",
      "source": [
        "# @title Train all data\n",
        "from sklearn.model_selection import train_test_split\n",
        "# No need to convert to dense, X is already a NumPy array\n",
        "X_train,X_test,y_train,y_test = train_test_split(X,y,test_size = 0.2, random_state = 1)\n",
        "print(X_train)\n",
        "print(y_train)"
      ],
      "metadata": {
        "colab": {
          "base_uri": "https://localhost:8080/"
        },
        "id": "c4oqyZtJBuZE",
        "outputId": "f4c0a9c5-6610-4d24-f8be-a7bee9998597"
      },
      "execution_count": null,
      "outputs": [
        {
          "output_type": "stream",
          "name": "stdout",
          "text": [
            "[[3 0 2048 ... 222.0 23.09812257 1836890]\n",
            " [0 3 2048 ... 40.0 3.266911565 10984]\n",
            " [0 3 2048 ... 0.0 36.76556594 429470]\n",
            " ...\n",
            " [0 3 2048 ... 378.0 9.706797283 1832669]\n",
            " [3 0 2048 ... 0.0 120.2096667 29389]\n",
            " [2 13 2054 ... 0.0 19.24683604 1955097]]\n",
            "[1 1 1 ... 1 1 1]\n"
          ]
        }
      ]
    },
    {
      "cell_type": "code",
      "source": [
        "# @title Test all data\n",
        "print(X_test)\n",
        "print(y_test)"
      ],
      "metadata": {
        "colab": {
          "base_uri": "https://localhost:8080/"
        },
        "id": "LYXDOJj_BxoG",
        "outputId": "e6f69d62-e62e-4d1c-c9b3-2c1696dc66ad"
      },
      "execution_count": null,
      "outputs": [
        {
          "output_type": "stream",
          "name": "stdout",
          "text": [
            "[[0 3 2048 ... 175.0 20.69911754 261261]\n",
            " [1 0 2048 ... 0.0 3.028444134 1619070]\n",
            " [3 0 2048 ... 0.0 15.37484558 1875485]\n",
            " ...\n",
            " [3 0 2048 ... 685.0 107.8960332 45074]\n",
            " [0 1 2048 ... 40.0 7.820070716 1896825]\n",
            " [3 1 2048 ... 27.0 23.90317238 1596842]]\n",
            "[1 0 1 ... 1 1 1]\n"
          ]
        }
      ]
    },
    {
      "cell_type": "code",
      "source": [
        "# @title Train Model\n",
        "from sklearn.linear_model import LogisticRegression\n",
        "model = LogisticRegression()\n",
        "model.fit(X_train, y_train)"
      ],
      "metadata": {
        "colab": {
          "base_uri": "https://localhost:8080/",
          "height": 74
        },
        "id": "CjB20I88BzVx",
        "outputId": "6ce980eb-cd69-41f0-a31f-3b50514fcd4e"
      },
      "execution_count": null,
      "outputs": [
        {
          "output_type": "execute_result",
          "data": {
            "text/plain": [
              "LogisticRegression()"
            ],
            "text/html": [
              "<style>#sk-container-id-1 {color: black;background-color: white;}#sk-container-id-1 pre{padding: 0;}#sk-container-id-1 div.sk-toggleable {background-color: white;}#sk-container-id-1 label.sk-toggleable__label {cursor: pointer;display: block;width: 100%;margin-bottom: 0;padding: 0.3em;box-sizing: border-box;text-align: center;}#sk-container-id-1 label.sk-toggleable__label-arrow:before {content: \"▸\";float: left;margin-right: 0.25em;color: #696969;}#sk-container-id-1 label.sk-toggleable__label-arrow:hover:before {color: black;}#sk-container-id-1 div.sk-estimator:hover label.sk-toggleable__label-arrow:before {color: black;}#sk-container-id-1 div.sk-toggleable__content {max-height: 0;max-width: 0;overflow: hidden;text-align: left;background-color: #f0f8ff;}#sk-container-id-1 div.sk-toggleable__content pre {margin: 0.2em;color: black;border-radius: 0.25em;background-color: #f0f8ff;}#sk-container-id-1 input.sk-toggleable__control:checked~div.sk-toggleable__content {max-height: 200px;max-width: 100%;overflow: auto;}#sk-container-id-1 input.sk-toggleable__control:checked~label.sk-toggleable__label-arrow:before {content: \"▾\";}#sk-container-id-1 div.sk-estimator input.sk-toggleable__control:checked~label.sk-toggleable__label {background-color: #d4ebff;}#sk-container-id-1 div.sk-label input.sk-toggleable__control:checked~label.sk-toggleable__label {background-color: #d4ebff;}#sk-container-id-1 input.sk-hidden--visually {border: 0;clip: rect(1px 1px 1px 1px);clip: rect(1px, 1px, 1px, 1px);height: 1px;margin: -1px;overflow: hidden;padding: 0;position: absolute;width: 1px;}#sk-container-id-1 div.sk-estimator {font-family: monospace;background-color: #f0f8ff;border: 1px dotted black;border-radius: 0.25em;box-sizing: border-box;margin-bottom: 0.5em;}#sk-container-id-1 div.sk-estimator:hover {background-color: #d4ebff;}#sk-container-id-1 div.sk-parallel-item::after {content: \"\";width: 100%;border-bottom: 1px solid gray;flex-grow: 1;}#sk-container-id-1 div.sk-label:hover label.sk-toggleable__label {background-color: #d4ebff;}#sk-container-id-1 div.sk-serial::before {content: \"\";position: absolute;border-left: 1px solid gray;box-sizing: border-box;top: 0;bottom: 0;left: 50%;z-index: 0;}#sk-container-id-1 div.sk-serial {display: flex;flex-direction: column;align-items: center;background-color: white;padding-right: 0.2em;padding-left: 0.2em;position: relative;}#sk-container-id-1 div.sk-item {position: relative;z-index: 1;}#sk-container-id-1 div.sk-parallel {display: flex;align-items: stretch;justify-content: center;background-color: white;position: relative;}#sk-container-id-1 div.sk-item::before, #sk-container-id-1 div.sk-parallel-item::before {content: \"\";position: absolute;border-left: 1px solid gray;box-sizing: border-box;top: 0;bottom: 0;left: 50%;z-index: -1;}#sk-container-id-1 div.sk-parallel-item {display: flex;flex-direction: column;z-index: 1;position: relative;background-color: white;}#sk-container-id-1 div.sk-parallel-item:first-child::after {align-self: flex-end;width: 50%;}#sk-container-id-1 div.sk-parallel-item:last-child::after {align-self: flex-start;width: 50%;}#sk-container-id-1 div.sk-parallel-item:only-child::after {width: 0;}#sk-container-id-1 div.sk-dashed-wrapped {border: 1px dashed gray;margin: 0 0.4em 0.5em 0.4em;box-sizing: border-box;padding-bottom: 0.4em;background-color: white;}#sk-container-id-1 div.sk-label label {font-family: monospace;font-weight: bold;display: inline-block;line-height: 1.2em;}#sk-container-id-1 div.sk-label-container {text-align: center;}#sk-container-id-1 div.sk-container {/* jupyter's `normalize.less` sets `[hidden] { display: none; }` but bootstrap.min.css set `[hidden] { display: none !important; }` so we also need the `!important` here to be able to override the default hidden behavior on the sphinx rendered scikit-learn.org. See: https://github.com/scikit-learn/scikit-learn/issues/21755 */display: inline-block !important;position: relative;}#sk-container-id-1 div.sk-text-repr-fallback {display: none;}</style><div id=\"sk-container-id-1\" class=\"sk-top-container\"><div class=\"sk-text-repr-fallback\"><pre>LogisticRegression()</pre><b>In a Jupyter environment, please rerun this cell to show the HTML representation or trust the notebook. <br />On GitHub, the HTML representation is unable to render, please try loading this page with nbviewer.org.</b></div><div class=\"sk-container\" hidden><div class=\"sk-item\"><div class=\"sk-estimator sk-toggleable\"><input class=\"sk-toggleable__control sk-hidden--visually\" id=\"sk-estimator-id-1\" type=\"checkbox\" checked><label for=\"sk-estimator-id-1\" class=\"sk-toggleable__label sk-toggleable__label-arrow\">LogisticRegression</label><div class=\"sk-toggleable__content\"><pre>LogisticRegression()</pre></div></div></div></div></div>"
            ]
          },
          "metadata": {},
          "execution_count": 10
        }
      ]
    },
    {
      "cell_type": "code",
      "source": [
        "# @title Predictions\n",
        "from sklearn.metrics import roc_curve, roc_auc_score\n",
        "pred_y = model.predict(X_test)\n",
        "auc = roc_auc_score(y_test,pred_y)\n",
        "fpr, tpr, thresholds = roc_curve(y_test, pred_y)\n",
        "\n",
        "print(fpr)\n",
        "print(tpr)\n",
        "print(thresholds)\n",
        "print(auc)"
      ],
      "metadata": {
        "colab": {
          "base_uri": "https://localhost:8080/"
        },
        "id": "1tVS8Cl4B1Er",
        "outputId": "62fab3e4-60dd-4191-b76a-b2fff90c5c2f"
      },
      "execution_count": null,
      "outputs": [
        {
          "output_type": "stream",
          "name": "stdout",
          "text": [
            "[0.         0.37476099 1.        ]\n",
            "[0.         0.93923281 1.        ]\n",
            "[2 1 0]\n",
            "0.7822359100082131\n"
          ]
        }
      ]
    },
    {
      "cell_type": "code",
      "source": [
        "# @title Evaluate Model\n",
        "from sklearn.metrics import accuracy_score, precision_score, recall_score\n",
        "acc = accuracy_score(y_test,pred_y)\n",
        "ps = precision_score(y_test,pred_y)\n",
        "rs = recall_score(y_test,pred_y)\n",
        "auc = roc_auc_score(y_test, pred_y)\n",
        "print(\"Accuracy Score : \",acc)\n",
        "print(\"Precision Score : \",ps)\n",
        "print(\"Recall Score : \",rs)\n",
        "print(\"AUC : \",auc)\n"
      ],
      "metadata": {
        "colab": {
          "base_uri": "https://localhost:8080/"
        },
        "id": "ShAi6HhoB2UI",
        "outputId": "10fc409f-0428-4e1f-c289-281837c9e5b6"
      },
      "execution_count": null,
      "outputs": [
        {
          "output_type": "stream",
          "name": "stdout",
          "text": [
            "Accuracy Score :  0.8871989860583016\n",
            "Precision Score :  0.9265642562757587\n",
            "Recall Score :  0.9392328142802886\n",
            "AUC :  0.7822359100082131\n"
          ]
        }
      ]
    },
    {
      "cell_type": "code",
      "source": [
        "import pickle\n",
        "# Save model to a file\n",
        "with open('ids_model.pkl', 'wb') as file:\n",
        "    pickle.dump(model, file)\n"
      ],
      "metadata": {
        "id": "Ur0rsb6sB3mh"
      },
      "execution_count": null,
      "outputs": []
    },
    {
      "cell_type": "code",
      "source": [],
      "metadata": {
        "id": "s-8MxmBRB7Fl"
      },
      "execution_count": null,
      "outputs": []
    }
  ]
}